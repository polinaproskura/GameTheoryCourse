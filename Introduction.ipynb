{
 "cells": [
  {
   "cell_type": "code",
   "execution_count": 56,
   "id": "739429f5-6f14-484e-85bd-c5f6de44c2fc",
   "metadata": {},
   "outputs": [],
   "source": [
    "import numpy as np"
   ]
  },
  {
   "cell_type": "markdown",
   "id": "6c2101d3-1942-42c7-97fc-0786954ef7a4",
   "metadata": {},
   "source": [
    "# Intro to Game Theory for IT specialists"
   ]
  },
  {
   "cell_type": "markdown",
   "id": "92fd2703-dcba-4a6d-9dba-5ba84cd515ac",
   "metadata": {},
   "source": [
    "There is presumption that Game Theory is something for only economists and never used in real life or real problems, some might even think this is a joking science. This course is to introduce it to the specialists in all IT areas and to understand that we meet it more than we think in everyday life.\n",
    "\n",
    "But basically many interactions in our lifes is some sort of the game"
   ]
  },
  {
   "cell_type": "markdown",
   "id": "e0bc651d-c7ff-458f-b6f1-2ec622580866",
   "metadata": {},
   "source": [
    "### Example\n",
    "You pass million coding interviews in FAANG and got a call that the job of your dreams is in your hands, but the sneaky recruter is asking about desired salary. The answer is easy to think of: you desire endless money. For recruter the answer is easy too: they want to pay you zero and get your labor for free. Here we start the game of guessing how much can you ask until they go to the next candidate.\n",
    "Let's play a little game to see how much you can win."
   ]
  },
  {
   "cell_type": "code",
   "execution_count": 53,
   "id": "ea391ee0-40bd-48e9-98be-a4262f8987fe",
   "metadata": {},
   "outputs": [],
   "source": [
    "class Rectuiter():\n",
    "    def __init__(self):\n",
    "        self.top_salary = np.random.randint(60000, 120000)\n",
    "        self.max_iteration = np.random.randint(1, 10)\n",
    "        self.iteration = 0\n",
    "        \n",
    "    def made_offer(self, number):\n",
    "        if self.iteration >= self.max_iteration:\n",
    "            print('Sorry, we are not currently hiring!')\n",
    "            return self.top_salary\n",
    "            \n",
    "        if number >= 1.5 * self.top_salary:\n",
    "            self.iteration = self.max_iteration\n",
    "            print('Sorry, we moved forward with the other candidates.')\n",
    "            return self.top_salary\n",
    "        \n",
    "        if number <= 0.75 * self.top_salary:\n",
    "            self.iteration = self.max_iteration\n",
    "            print('Welcome to the family!')\n",
    "            return (self.top_salary - number)\n",
    "\n",
    "        if self.iteration < self.max_iteration - 1:\n",
    "            print(f'I apologize, we are only able to do {0.9 * number} now, will this work for You?')\n",
    "            self.iteration += 1\n",
    "            return self.top_salary\n",
    "        \n",
    "        if number > self.top_salary:\n",
    "            print('Sorry, we moved forward with the other candidates.')\n",
    "            self.iteration += 1\n",
    "            return self.top_salary\n",
    "            \n",
    "        print('Congratulations!')\n",
    "        self.iteration = self.max_iteration\n",
    "        return (self.top_salary - number)\n",
    "        \n",
    "    def negotiations(self):\n",
    "        lost_money = 0\n",
    "        while self.iteration < self.max_iteration:\n",
    "            number = float(input())\n",
    "            lost_money = self.made_offer(number)\n",
    "        print(f'You lost potential money of {lost_money}')"
   ]
  },
  {
   "cell_type": "code",
   "execution_count": 54,
   "id": "67599439-164b-4c0e-916a-3a318095e3fb",
   "metadata": {},
   "outputs": [],
   "source": [
    "recruiter = Rectuiter()"
   ]
  },
  {
   "cell_type": "code",
   "execution_count": 55,
   "id": "e8c56e74-9bda-436b-a044-1458a1ae2655",
   "metadata": {},
   "outputs": [
    {
     "name": "stdin",
     "output_type": "stream",
     "text": [
      " 2\n"
     ]
    },
    {
     "name": "stdout",
     "output_type": "stream",
     "text": [
      "Welcome to the family!\n",
      "You lost potential money of 84787.0\n"
     ]
    }
   ],
   "source": [
    "recruiter.negotiations()"
   ]
  },
  {
   "cell_type": "code",
   "execution_count": null,
   "id": "f7dcccef-7659-4ffa-afbd-192c0ab21799",
   "metadata": {},
   "outputs": [],
   "source": []
  }
 ],
 "metadata": {
  "kernelspec": {
   "display_name": "Python 3 (ipykernel)",
   "language": "python",
   "name": "python3"
  },
  "language_info": {
   "codemirror_mode": {
    "name": "ipython",
    "version": 3
   },
   "file_extension": ".py",
   "mimetype": "text/x-python",
   "name": "python",
   "nbconvert_exporter": "python",
   "pygments_lexer": "ipython3",
   "version": "3.12.4"
  }
 },
 "nbformat": 4,
 "nbformat_minor": 5
}
