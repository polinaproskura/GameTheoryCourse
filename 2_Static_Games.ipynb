{
 "cells": [
  {
   "cell_type": "markdown",
   "id": "845e7e01-6c6f-41a7-bb10-a7a0524867af",
   "metadata": {},
   "source": [
    "### **Static Games of Complete Information**\n",
    "\n",
    "**What Are Static Games of Complete Information?**\n",
    "\n",
    "A **static game of complete information** is a strategic interaction where:  \n",
    "1. All players make their decisions simultaneously (or without knowing the decisions of others).  \n",
    "2. Each player has complete knowledge of the game’s structure, including the payoffs of all players for every possible combination of strategies.  \n",
    "\n",
    "In such games, players do not receive new information during the game that could influence their decisions; all relevant information is available from the start."
   ]
  },
  {
   "cell_type": "markdown",
   "id": "6a972a83-d929-4f6d-8bb4-fbc1a701004b",
   "metadata": {},
   "source": [
    "### **The Normal Form Representation**\n",
    "\n",
    "A **normal form representation** of a game is a way of summarizing the players, their strategies, and their payoffs in a matrix or table format. It is useful for analyzing static games because it lays out all possible strategies and outcomes in a structured and intuitive way.  \n",
    "\n",
    "The **key components** of a normal form representation are:  \n",
    "1. **Players**: The individuals or entities making decisions (e.g., Player 1 and Player 2).  \n",
    "2. **Strategies**: The set of actions available to each player.  \n",
    "3. **Payoffs**: The rewards (or penalties) each player receives based on the combination of chosen strategies."
   ]
  },
  {
   "cell_type": "markdown",
   "id": "40838417-ca37-4c5b-b7c9-d0c4af6eb569",
   "metadata": {},
   "source": [
    "Let's start with the most popular example of the game in Game Theory: Prisoner's Dilemma!\n",
    "\n",
    "### **1. Prisoner’s Dilemma**\n",
    "\n",
    "**Context**:  \n",
    "Two suspects are arrested and interrogated separately. They have two choices:  \n",
    "- **Cooperate** (remain silent)  \n",
    "- **Defect** (betray the other)\n",
    "\n",
    "The outcomes are:  \n",
    "- If both cooperate, they each get a light sentence.  \n",
    "- If one defects and the other cooperates, the defector goes free, and the cooperator gets a heavy sentence.  \n",
    "- If both defect, they both receive a moderate sentence."
   ]
  },
  {
   "cell_type": "code",
   "execution_count": 1,
   "id": "3bc4f815-5ef7-4ef5-b4dd-dc13c1dc08e7",
   "metadata": {},
   "outputs": [
    {
     "data": {
      "image/png": "[encoded data removed]",
      "text/plain": [
       "<Figure size 400x400 with 1 Axes>"
      ]
     },
     "metadata": {},
     "output_type": "display_data"
    }
   ],
   "source": [
    "import matplotlib.pyplot as plt\n",
    "import numpy as np\n",
    "\n",
    "confusion_matrix = np.array([[6, 5], [5, 6]])\n",
    "\n",
    "fig, ax = plt.subplots(figsize=(4, 4))\n",
    "cax = ax.matshow(confusion_matrix, cmap='Blues')\n",
    "\n",
    "rewards = [['(-1, -1)', '(-10, 0)'], \n",
    "     ['(0, -10)', '(-5, -5)']]\n",
    "\n",
    "for i in range(2):\n",
    "    for j in range(2):\n",
    "        ax.text(j, i, f'{rewards[i][j]}', ha='center', va='center', fontsize=16)\n",
    "\n",
    "ax.set_xlabel('Player 2', fontsize=14)\n",
    "ax.set_ylabel('Player 1', fontsize=14)\n",
    "ax.set_xticks([0, 1])\n",
    "ax.set_yticks([0, 1])\n",
    "ax.set_xticklabels(['Cooperate', 'Defect'], fontsize=12)\n",
    "ax.set_yticklabels(['Cooperate', 'Defect'], fontsize=12, rotation=90)\n",
    "plt.show()\n"
   ]
  },
  {
   "cell_type": "markdown",
   "id": "54bea30c-7213-431f-b801-6bb153b5a072",
   "metadata": {},
   "source": [
    "**Explanation**:  \n",
    "- Payoffs represent years in prison (negative numbers indicate a penalty).  \n",
    "- The dominant strategy for both players is to defect, as it minimizes their individual risk, leading to a **Nash equilibrium** at **(Defect, Defect)**."
   ]
  },
  {
   "cell_type": "markdown",
   "id": "d9c2a1b2-62fc-4f08-9060-0d5ff28cfab4",
   "metadata": {},
   "source": [
    "### **2. Matching Pennies**\n",
    "\n",
    "**Context**:  \n",
    "Two players simultaneously choose a side of a coin: **Heads** or **Tails**.  \n",
    "- If the choices match, Player 1 wins and receives a payoff of 1, while Player 2 loses and receives -1.  \n",
    "- If the choices differ, Player 2 wins and receives 1, while Player 1 loses and receives -1.\n",
    "\n",
    "Let's play the game as a Player 2 and see how much you can win!"
   ]
  },
  {
   "cell_type": "code",
   "execution_count": 2,
   "id": "e151b1ad-f910-4d49-afbb-ddaae3984efe",
   "metadata": {},
   "outputs": [],
   "source": [
    "import numpy as np\n",
    "\n",
    "class MathchingPennies():\n",
    "    def __init__(self):\n",
    "        self.max_tries = 10\n",
    "        self.coin_dict = {'heads': 0, 'tails': 1}\n",
    "        self.one_wins = 0\n",
    "        self.two_wins = 0\n",
    "\n",
    "    def play_round(self, coin):\n",
    "        coin_value = self.coin_dict[coin]\n",
    "        first_coin_value = np.random.randint(2)\n",
    "        if coin_value == first_coin_value:\n",
    "            print('Player 1 wins this round!')\n",
    "            self.one_wins += 1\n",
    "            self.two_wins -= 1\n",
    "        else:\n",
    "            print('Playes 2 wins this round!')\n",
    "            self.two_wins += 1\n",
    "            self.one_wins -= 1\n",
    "        return\n",
    "\n",
    "    def play_ten_rounds(self):\n",
    "        print('''\n",
    "        You will play 10 rounds of the Matching Pennies game!\n",
    "        You play as Player 2, you have to input either \\'heads\\' or \\'tails\\' in the input field.\n",
    "        If the other player choose a different value, you win +1 penny! You lose 1 penny otherwise.\n",
    "        See, if you can develop a strategy!\n",
    "        ''')\n",
    "        for current_try in range(self.max_tries):\n",
    "            coin = input()\n",
    "            if coin not in self.coin_dict.keys():\n",
    "                print('Wrong input! You lost a try!')\n",
    "                continue\n",
    "            else:\n",
    "                self.play_round(coin)\n",
    "        print('******************************')\n",
    "        print(f'Player 1 got {self.one_wins} pennies total!')\n",
    "        print(f'Player 2 got {self.two_wins} pennies total!')        "
   ]
  },
  {
   "cell_type": "code",
   "execution_count": 3,
   "id": "93b3274d-798c-43d7-b0ed-457a7c3ee155",
   "metadata": {},
   "outputs": [],
   "source": [
    "game = MathchingPennies()\n",
    "game.play_ten_rounds()"
   ]
  },
  {
   "cell_type": "markdown",
   "id": "c50cc8ef-96d9-4c8e-9e6d-7112bf09707b",
   "metadata": {},
   "source": [
    "**Normal Form Representation**:"
   ]
  },
  {
   "cell_type": "code",
   "execution_count": 4,
   "id": "ab9e1b80-1c94-4053-81df-6c026f9fa314",
   "metadata": {},
   "outputs": [
    {
     "data": {
      "image/png": "[encoded data removed]",
      "text/plain": [
       "<Figure size 400x400 with 1 Axes>"
      ]
     },
     "metadata": {},
     "output_type": "display_data"
    }
   ],
   "source": [
    "import matplotlib.pyplot as plt\n",
    "import numpy as np\n",
    "\n",
    "confusion_matrix = np.array([[6, 5], [5, 6]])\n",
    "\n",
    "fig, ax = plt.subplots(figsize=(4, 4))\n",
    "cax = ax.matshow(confusion_matrix, cmap='Blues')\n",
    "\n",
    "rewards = [['(1, -1)', '(-1, 1)'], \n",
    "     ['(-1, 1)', '(1, -1)']]\n",
    "\n",
    "for i in range(2):\n",
    "    for j in range(2):\n",
    "        ax.text(j, i, f'{rewards[i][j]}', ha='center', va='center', fontsize=16)\n",
    "\n",
    "ax.set_xlabel('Player 2', fontsize=14)\n",
    "ax.set_ylabel('Player 1', fontsize=14)\n",
    "ax.set_xticks([0, 1])\n",
    "ax.set_yticks([0, 1])\n",
    "ax.set_xticklabels(['Heads', 'Tails'], fontsize=12)\n",
    "ax.set_yticklabels(['Heads', 'Tails'], fontsize=12, rotation=90)\n",
    "plt.show()\n"
   ]
  },
  {
   "cell_type": "markdown",
   "id": "b43aa50f-3bbf-4a19-afa8-4028ee8ed786",
   "metadata": {},
   "source": [
    "**Explanation**:  \n",
    "- This is a **zero-sum game**, where one player's gain is the other’s loss.  \n",
    "- There is no pure-strategy Nash equilibrium, as each player's best response depends on the other’s choice.  \n",
    "- The optimal strategy is a mixed strategy: each player chooses **Heads** or **Tails** with equal probability (50%)."
   ]
  },
  {
   "cell_type": "markdown",
   "id": "2e7a744f-00e9-4b3c-a0a0-434a063b9bdb",
   "metadata": {},
   "source": [
    "### **3. Coordination Game: Traffic Lights**\n",
    "\n",
    "**Context**:  \n",
    "Two drivers approach a narrow bridge from opposite directions. Each must decide whether to yield or continue. If both continue, they crash. If one yields and the other continues, the yielding driver is slightly inconvenienced, but the other passes safely.  \n",
    "\n",
    "**Normal Form Representation**:"
   ]
  },
  {
   "cell_type": "code",
   "execution_count": 5,
   "id": "fd870c30-1103-4250-88d0-1103dbd2da77",
   "metadata": {},
   "outputs": [
    {
     "data": {
      "image/png": "[encoded data removed]",
      "text/plain": [
       "<Figure size 400x400 with 1 Axes>"
      ]
     },
     "metadata": {},
     "output_type": "display_data"
    }
   ],
   "source": [
    "import matplotlib.pyplot as plt\n",
    "import numpy as np\n",
    "\n",
    "confusion_matrix = np.array([[6, 5], [5, 6]])\n",
    "\n",
    "fig, ax = plt.subplots(figsize=(4, 4))\n",
    "cax = ax.matshow(confusion_matrix, cmap='Blues')\n",
    "\n",
    "rewards = [['(0, 0)', '(-1, 1)'], \n",
    "     ['(1, -1)', '(-5, -5)']]\n",
    "\n",
    "for i in range(2):\n",
    "    for j in range(2):\n",
    "        ax.text(j, i, f'{rewards[i][j]}', ha='center', va='center', fontsize=16)\n",
    "\n",
    "ax.set_xlabel('Driver 2', fontsize=14)\n",
    "ax.set_ylabel('Driver 1', fontsize=14)\n",
    "ax.set_xticks([0, 1])\n",
    "ax.set_yticks([0, 1])\n",
    "ax.set_xticklabels(['Yield', 'Continue'], fontsize=12)\n",
    "ax.set_yticklabels(['Yield', 'Continue'], fontsize=12, rotation=90)\n",
    "plt.show()\n"
   ]
  },
  {
   "cell_type": "markdown",
   "id": "79aa2e27-5bb7-4b26-810d-b9d056ee0057",
   "metadata": {},
   "source": [
    "#### **Hometask 1**\n",
    "Think of the Nash equlibriums for the game and see if you can develop a strategy for a Driver 1."
   ]
  },
  {
   "cell_type": "markdown",
   "id": "93515040-a447-430a-b1c5-94aa06dd68d3",
   "metadata": {},
   "source": [
    "### **Dominant Strategies in Game Theory**\n",
    "\n",
    "**What Are Dominant Strategies?**\n",
    "\n",
    "In game theory, a **dominant strategy** is a strategy that yields a better outcome for a player, regardless of what the other players do. If a player has a dominant strategy, they will always choose it because it guarantees the highest payoff, irrespective of the opponents’ choices.\n",
    "\n",
    "Key points about dominant strategies:\n",
    "1. **Strictly Dominant Strategy**: A strategy is strictly dominant if it always provides a strictly better payoff compared to any other strategy available to the player, no matter what the other players do.\n",
    "2. **Weakly Dominant Strategy**: A strategy is weakly dominant if it provides a payoff that is at least as good as any other strategy, and strictly better in some cases.\n",
    "\n",
    "Not all games have dominant strategies. However, when they exist, they simplify the decision-making process for players."
   ]
  },
  {
   "cell_type": "markdown",
   "id": "2117b725-d491-4b5b-bdcd-75e92a20caef",
   "metadata": {},
   "source": [
    "### **Example 1: Prisoner’s Dilemma**\n",
    "\n",
    "Let’s revisit the **Prisoner’s Dilemma**, where two players (Player 1 and Player 2) have two strategies:  \n",
    "- **Cooperate**: Stay silent.  \n",
    "- **Defect**: Betray the other.  \n",
    "\n",
    "The payoff table (in years in prison) is (see the code above):\n",
    "\n",
    "| **Player 1 \\ Player 2** | **Cooperate** | **Defect**   |\n",
    "|--------------------------|---------------|--------------|\n",
    "| **Cooperate**           | (-1, -1)      | (-10, 0)     |\n",
    "| **Defect**              | (0, -10)      | (-5, -5)     |\n",
    "\n",
    "**Analysis**:\n",
    "- For Player 1:  \n",
    "  - If Player 2 cooperates, defecting results in a payoff of 0 (better than -1).  \n",
    "  - If Player 2 defects, defecting results in a payoff of -5 (better than -10).  \n",
    "  - Thus, defecting is a **dominant strategy** for Player 1.  \n",
    "\n",
    "- For Player 2:  \n",
    "  - If Player 1 cooperates, defecting results in a payoff of 0 (better than -1).  \n",
    "  - If Player 1 defects, defecting results in a payoff of -5 (better than -10).  \n",
    "  - Thus, defecting is also a **dominant strategy** for Player 2.  \n",
    "\n",
    "**Outcome**: Both players will defect, resulting in the Nash equilibrium at **(Defect, Defect)**, even though cooperating would give them a better collective outcome."
   ]
  },
  {
   "cell_type": "markdown",
   "id": "65d514cf-313f-4f5d-a371-8634bfd30e9c",
   "metadata": {},
   "source": [
    "### **Example 2: Advertising**\n",
    "\n",
    "Two companies, A and B, are deciding whether to spend money on advertising or not.  \n",
    "- If neither advertises, they split the market and earn moderate profits.  \n",
    "- If one advertises and the other doesn’t, the advertiser captures the entire market.  \n",
    "- If both advertise, they cancel each other out, and profits are reduced due to the advertising cost.\n",
    "\n",
    "The payoff table is:"
   ]
  },
  {
   "cell_type": "code",
   "execution_count": 6,
   "id": "d09f0893-d9b1-4e65-a27f-009a5f47ed99",
   "metadata": {},
   "outputs": [
    {
     "data": {
      "image/png": "[encoded data removed]",
      "text/plain": [
       "<Figure size 400x400 with 1 Axes>"
      ]
     },
     "metadata": {},
     "output_type": "display_data"
    }
   ],
   "source": [
    "import matplotlib.pyplot as plt\n",
    "import numpy as np\n",
    "\n",
    "confusion_matrix = np.array([[6, 5], [5, 6]])\n",
    "\n",
    "fig, ax = plt.subplots(figsize=(4, 4))\n",
    "cax = ax.matshow(confusion_matrix, cmap='Blues')\n",
    "\n",
    "rewards = [['(3, 3)', '(1, 5)'], \n",
    "     ['(5, 1)', '(2, 2)']]\n",
    "\n",
    "for i in range(2):\n",
    "    for j in range(2):\n",
    "        ax.text(j, i, f'{rewards[i][j]}', ha='center', va='center', fontsize=16)\n",
    "\n",
    "ax.set_xlabel('Company B', fontsize=14)\n",
    "ax.set_ylabel('Company A', fontsize=14)\n",
    "ax.set_xticks([0, 1])\n",
    "ax.set_yticks([0, 1])\n",
    "ax.set_xticklabels(['Don\\'t advertise', 'Advertise'], fontsize=12)\n",
    "ax.set_yticklabels(['Don\\'t advertise', 'Advertise'], fontsize=12, rotation=90)\n",
    "plt.show()\n"
   ]
  },
  {
   "cell_type": "markdown",
   "id": "52068293-79df-406c-88ea-d48b77de2481",
   "metadata": {},
   "source": [
    "**Analysis**:\n",
    "- For Company A:  \n",
    "  - If Company B doesn’t advertise, advertising gives a higher payoff (5 > 3).  \n",
    "  - If Company B advertises, advertising still gives a higher payoff (2 > 1).  \n",
    "  - Thus, advertising is a **dominant strategy** for Company A.  \n",
    "\n",
    "- For Company B:  \n",
    "  - If Company A doesn’t advertise, advertising gives a higher payoff (5 > 3).  \n",
    "  - If Company A advertises, advertising still gives a higher payoff (2 > 1).  \n",
    "  - Thus, advertising is a **dominant strategy** for Company B.  \n",
    "\n",
    "**Outcome**: Both companies will choose to advertise, resulting in reduced profits for both."
   ]
  },
  {
   "cell_type": "markdown",
   "id": "6f6858ca-b9ac-4087-ab9a-06ecf46c41b1",
   "metadata": {},
   "source": [
    "### **Example 3: Greedy Bidding Game**\n",
    "\n",
    "Imagine a game where two players, Alice and Bob, are tasked with announcing an integer between **0 and 100**. These integers represent their \"bids\" in a strategic competition. The rules for determining their payoffs depend on the sum of their bids, creating an interesting dilemma:\n",
    "\n",
    "1. If the sum of their bids $(a + b)$ is **less than or equal to 100**:\n",
    "   - Alice (Player 1) receives her bid $a$.\n",
    "   - Bob (Player 2) receives his bid $b$.\n",
    "\n",
    "2. If the sum of their bids exceeds 100,  $a + b > 100$:\n",
    "   - If Alice bids more than Bob $a > b$:\n",
    "     - Alice receives $(100 - b)$ (a penalty based on Bob’s bid).  \n",
    "     - Bob receives his bid $b$.\n",
    "   - If Bob bids more than Alice $b > a$:\n",
    "     - Bob receives $(100 - a)$ (a penalty based on Alice’s bid).  \n",
    "     - Alice receives her bid $b$.\n",
    "   - If both bid the same amount $a = b$:\n",
    "     - Both receive 50.\n",
    "\n",
    "This game is a great example of how **dominant strategies** can simplify decision-making in strategic interactions. Players must carefully balance their bids to maximize their payoffs while considering the impact of their opponent’s decisions.\n",
    "\n",
    "**Key Questions to Consider:**\n",
    "- Should a player bid high or low?  \n",
    "- What happens when the sum of bids exceeds 100?  \n",
    "- Is there a bid that always guarantees a better outcome regardless of the other player’s decision?\n",
    "\n",
    "Let's play the game for Alice! Can you find a winning streategy that will allow you to get the most money?"
   ]
  },
  {
   "cell_type": "code",
   "execution_count": 7,
   "id": "c371b18f-58cd-4762-8346-4006ade34608",
   "metadata": {},
   "outputs": [],
   "source": [
    "class GreedyBiddingGame():\n",
    "    def __init__(self, max_rounds=5):\n",
    "        self.max_rounds = max_rounds\n",
    "        self.alice_reward = 0\n",
    "        self.bob_reward = 0\n",
    "\n",
    "    def play_round(self, a):\n",
    "        b = np.random.randint(101)\n",
    "        if (a + b) <= 100:\n",
    "            self.alice_reward += a\n",
    "            self.bob_reward += b\n",
    "            print(f'Alice\\' reward for the round is {a}')\n",
    "            print(f'Bob\\' reward for the round is {b}')\n",
    "        elif a > b:\n",
    "            self.alice_reward += (100 - b)\n",
    "            self.bob_reward += b\n",
    "            print(f'Alice\\' reward for the round is {100 - b}')\n",
    "            print(f'Bob\\' reward for the round is {b}')\n",
    "\n",
    "        elif b > a:\n",
    "            self.alice_reward += a\n",
    "            self.bob_reward += (100 - a)\n",
    "            print(f'Alice\\' reward for the round is {a}')\n",
    "            print(f'Bob\\' reward for the round is {100 - a}')\n",
    "        else:\n",
    "            self.alice_reward += 50\n",
    "            self.bob_reward += 50\n",
    "            print('Alice\\' reward for the round is 50')\n",
    "            print('Bob\\' reward for the round is 50')\n",
    "        return\n",
    "    \n",
    "    def play(self):\n",
    "        for current_round in range(self.max_rounds):\n",
    "            a = int(input())\n",
    "            if a > 100 or a < 0:\n",
    "                print('Wrong input! You just lost a round!')\n",
    "                self.bob_reward += 100\n",
    "                continue\n",
    "            self.play_round(a)\n",
    "        print('******************************')\n",
    "        print(f'Total Alice\\' reward for {self.max_rounds} is {self.alice_reward}')\n",
    "        print(f'Total Bob\\' reward for {self.max_rounds} is {self.bob_reward}')"
   ]
  },
  {
   "cell_type": "code",
   "execution_count": 8,
   "id": "641ad2d6-b772-4d76-a596-c9bea4c61f0d",
   "metadata": {},
   "outputs": [],
   "source": [
    "max_rounds = 5\n",
    "game = GreedyBiddingGame(max_rounds)\n",
    "game.play()"
   ]
  },
  {
   "cell_type": "markdown",
   "id": "d764e9f4-9319-4e2c-9793-d7bdda9befec",
   "metadata": {},
   "source": [
    "### **Understanding the Optimal Strategy for Alice and Bob**\n",
    "\n",
    "Let’s break down the reasoning behind the optimal strategy step-by-step:\n",
    "\n",
    "### **Step 1: Observations About the Payoffs**\n",
    "\n",
    "- If **Alice announces 51**, her payoff is:  \n",
    "  - **50** if Bob announces **50 or 51**, and  \n",
    "  - **51** if Bob announces any number other than **50 or 51**.  \n",
    "\n",
    "- The same applies to Bob:  \n",
    "  - If Bob announces **51**, his payoff is:  \n",
    "    - **50** if Alice announces **50 or 51**, and  \n",
    "    - **51** if Alice announces any number other than **50 or 51**.  \n",
    "\n",
    "### **Step 2: Iterative Elimination of Strategies**\n",
    "\n",
    "We analyze the game by iteratively eliminating dominated strategies—those that are always worse than another available strategy. Here's how it works:\n",
    "\n",
    "#### **Round 1: Eliminating Numbers Below 51**  \n",
    "- If Alice announces a number less than **51**, her payoff will be exactly equal to that number, regardless of what Bob announces. For example:\n",
    "  - If Alice announces **50**, she gets **50**, no matter what Bob does.  \n",
    "  - If Alice announces **49**, she gets **49**, no matter what Bob does.  \n",
    "\n",
    "Thus, announcing any number less than **51** is **dominated** by announcing **51**, which guarantees at least as good a payoff and often better.  \n",
    "- The same logic applies to Bob.  \n",
    "\n",
    "**Result**: We eliminate all numbers from **0 to 50** as a strategy for both Alice and Bob.  \n",
    "\n",
    "\n",
    "#### **Round 2: Eliminating Numbers Higher Than 51**  \n",
    "- If Alice announces **100**, her maximum payoff is **50** because Bob will announce a number between **51 and 100**, forcing the total sum to exceed 100. In this case, Alice's payoff is capped at $100 - \\text{Bob's bid} \\leq 50$.  \n",
    "  - But if Alice instead announces **51**, her payoff can be **51**—a better outcome.  \n",
    "  - Therefore, **100** is dominated by **51**.  \n",
    "\n",
    "- The same logic applies to other numbers greater than **51**. For example:\n",
    "  - If Alice announces **99**, Bob will announce a number between **51 and 99**, limiting Alice’s payoff to **50 or less**.  \n",
    "  - Similarly, **98, 97, ..., 52** are all dominated by **51**.\n",
    "\n",
    "**Result**: We eliminate all numbers from **52 to 100** for both Alice and Bob.  \n",
    "\n",
    "\n",
    "#### **Final Step: Only 51 Remains**  \n",
    "After iteratively eliminating all dominated strategies, the only strategy left for both players is **51**. This results in the following outcomes:  \n",
    "- Both Alice and Bob announce **51**.  \n",
    "- Their combined total is $51 + 51 = 102$, which exceeds 100.  \n",
    "- According to the game rules, both receive a payoff of **50**.  "
   ]
  },
  {
   "cell_type": "markdown",
   "id": "a6f8c35c-3b3c-4e33-9e56-acdc5a58c16c",
   "metadata": {},
   "source": [
    "### **Key Takeaways**\n",
    "\n",
    "- **Dominant Strategies Simplify Analysis**: If a dominant strategy exists, the player should always choose it, regardless of what others do.  \n",
    "- **Not All Games Have Dominant Strategies**: Some games, lack dominant strategies and require other methods (e.g., Nash equilibrium) for analysis.  "
   ]
  },
  {
   "cell_type": "markdown",
   "id": "adbd0dd5-f07e-46d0-9ad6-a8c19aaea8b9",
   "metadata": {},
   "source": [
    "### **Nash Equilibrium**\n",
    "\n",
    "Let's revise the concept of the **Nash Equilibrium** -- one of the most fundamental concepts in game theory. Named after John Nash, who introduced it, the Nash Equilibrium represents a situation in a game where no player has an incentive to unilaterally change their strategy, given the strategies chosen by the other players.\n",
    "\n",
    "**Definition**:  \n",
    "A Nash Equilibrium occurs when each player's strategy is optimal, given the strategies of the other players. In other words, no player can increase their payoff by changing their strategy while the others keep theirs unchanged.\n",
    "\n",
    "**Key Features**:\n",
    "1. **Stability**: At a Nash Equilibrium, no player has an incentive to deviate.  \n",
    "2. **Mutual Best Responses**: Every player's strategy is the best response to the strategies of the other players.  \n",
    "\n",
    "\n",
    "\n",
    "**Step-by-Step Process for Finding It**:\n",
    "1. **Construct the Payoff Matrix**: Identify the players, their strategies, and the payoffs for all possible combinations of strategies.  \n",
    "2. **Find Best Responses**: For each player, determine the strategy that yields the highest payoff, given the opponent's choice.  \n",
    "3. **Identify Stable Points**: Look for strategy combinations where each player’s strategy is a best response to the other’s. "
   ]
  },
  {
   "cell_type": "markdown",
   "id": "74e0b27b-e551-4de0-9be3-23d142d1a34b",
   "metadata": {},
   "source": [
    "### **Hometask 2**\n",
    "\n",
    "- For all the games described at the lesson identify the Nash equilibria.\n",
    "- Create a game where no pure strategy Nash Equilibrium exists."
   ]
  },
  {
   "cell_type": "code",
   "execution_count": null,
   "id": "2e5614db-2df9-4d1b-ac76-8d26054adc91",
   "metadata": {},
   "outputs": [],
   "source": []
  }
 ],
 "metadata": {
  "kernelspec": {
   "display_name": "Python 3 (ipykernel)",
   "language": "python",
   "name": "python3"
  },
  "language_info": {
   "codemirror_mode": {
    "name": "ipython",
    "version": 3
   },
   "file_extension": ".py",
   "mimetype": "text/x-python",
   "name": "python",
   "nbconvert_exporter": "python",
   "pygments_lexer": "ipython3",
   "version": "3.12.4"
  }
 },
 "nbformat": 4,
 "nbformat_minor": 5
}
